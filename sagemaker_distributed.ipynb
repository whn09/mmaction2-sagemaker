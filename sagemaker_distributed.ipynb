{
 "cells": [
  {
   "cell_type": "markdown",
   "metadata": {},
   "source": [
    "# Training MMAction3 Mask-RCNN Model on Sagemaker Distributed Cluster\n",
    "\n",
    "## Motivation\n",
    "[MMDetection](https://github.com/open-mmlab/mmdetection) is a popular open-source Deep Learning framework focused on Computer Vision models and use cases. MMDetection provides to higher level APIs for model training and inference. It demonstrates [state-of-the-art benchmarks](https://github.com/open-mmlab/mmdetection#benchmark-and-model-zoo) for variety of model architecture and extensive Model Zoo.\n",
    "\n",
    "In this notebook, we will build a custom training container with MMdetection library and then train Mask-RCNN model from scratch on [COCO2017 dataset](https://cocodataset.org/#home) using Sagemaker distributed [training feature](https://docs.aws.amazon.com/sagemaker/latest/dg/how-it-works-training.html) in order to reduce training time.\n",
    "\n",
    "### Preconditions\n",
    "- To execute this notebook, you will need to have COCO 2017 training and validation datasets uploaded to S3 bucket available for Amazon Sagemaker service.\n",
    "\n",
    "\n",
    "## Building Training Container\n",
    "\n",
    "Amazon Sagemaker allows to BYO containers for training, data processing, and inference. In our case, we need to build custom training container which will be pushed to your AWS account [ECR service](https://aws.amazon.com/ecr/). \n",
    "\n",
    "For this, we need to login to public ECR with Sagemaker base images and private ECR reposity."
   ]
  },
  {
   "cell_type": "code",
   "execution_count": 4,
   "metadata": {},
   "outputs": [],
   "source": [
    "import sagemaker, boto3\n",
    "\n",
    "session = sagemaker.Session()\n",
    "region = session.boto_region_name\n",
    "account = boto3.client('sts').get_caller_identity().get('Account')\n",
    "bucket = session.default_bucket()"
   ]
  },
  {
   "cell_type": "code",
   "execution_count": 5,
   "metadata": {},
   "outputs": [
    {
     "name": "stdout",
     "output_type": "stream",
     "text": [
      "WARNING! Your password will be stored unencrypted in /home/ec2-user/.docker/config.json.\n",
      "Configure a credential helper to remove this warning. See\n",
      "https://docs.docker.com/engine/reference/commandline/login/#credentials-store\n",
      "\n",
      "Login Succeeded\n",
      "WARNING! Your password will be stored unencrypted in /home/ec2-user/.docker/config.json.\n",
      "Configure a credential helper to remove this warning. See\n",
      "https://docs.docker.com/engine/reference/commandline/login/#credentials-store\n",
      "\n",
      "Login Succeeded\n"
     ]
    }
   ],
   "source": [
    "# login to Sagemaker ECR with Deep Learning Containers\n",
    "!aws ecr get-login-password --region {region} | docker login --username AWS --password-stdin 763104351884.dkr.ecr.{region}.amazonaws.com\n",
    "# login to your private ECR\n",
    "!aws ecr get-login-password --region {region} | docker login --username AWS --password-stdin {account}.dkr.ecr.{region}.amazonaws.com"
   ]
  },
  {
   "cell_type": "markdown",
   "metadata": {},
   "source": [
    "Now, let review training container:\n",
    "- use Sagemaker PyTorch 1.5.0 container as base image;\n",
    "- install latest version of Pytorch libraries and MMdetection dependencies;\n",
    "- build MMDetection from sources;\n",
    "- configure Sagemaker env variables, specifically, what script to use at training time."
   ]
  },
  {
   "cell_type": "code",
   "execution_count": null,
   "metadata": {},
   "outputs": [],
   "source": [
    "! pygmentize -l docker Dockerfile.training"
   ]
  },
  {
   "cell_type": "markdown",
   "metadata": {},
   "source": [
    "<br>\n",
    "<br>\n",
    "Next, we build and push custom training container to private ECR\n",
    "<br>\n",
    "<br>"
   ]
  },
  {
   "cell_type": "code",
   "execution_count": 7,
   "metadata": {},
   "outputs": [
    {
     "name": "stdout",
     "output_type": "stream",
     "text": [
      "WARNING! Using --password via the CLI is insecure. Use --password-stdin.\n",
      "WARNING! Your password will be stored unencrypted in /home/ec2-user/.docker/config.json.\n",
      "Configure a credential helper to remove this warning. See\n",
      "https://docs.docker.com/engine/reference/commandline/login/#credentials-store\n",
      "\n",
      "Login Succeeded\n",
      "Sending build context to Docker daemon  36.86MB\n",
      "Step 1/13 : FROM 763104351884.dkr.ecr.us-east-1.amazonaws.com/pytorch-training:1.5.0-gpu-py36-cu101-ubuntu16.04\n",
      " ---> 47cd15520b75\n",
      "Step 2/13 : LABEL author=\"vadimd@amazon.com\"\n",
      " ---> Using cache\n",
      " ---> 78da0851d3c4\n",
      "Step 3/13 : WORKDIR /opt/ml/code\n",
      " ---> Using cache\n",
      " ---> 07bd9a0de06d\n",
      "Step 4/13 : RUN pip install --upgrade --force-reinstall  torch torchvision cython\n",
      " ---> Using cache\n",
      " ---> b13c99508ae7\n",
      "Step 5/13 : RUN pip install mmcv-full==latest+torch1.7.0+cu101 -f https://download.openmmlab.com/mmcv/dist/index.html\n",
      " ---> Using cache\n",
      " ---> 7e525985aced\n",
      "Step 6/13 : RUN git clone https://github.com/open-mmlab/mmaction2.git\n",
      " ---> Using cache\n",
      " ---> 725bfb4c2796\n",
      "Step 7/13 : RUN cd mmaction2/ &&     pip install -r requirements/build.txt &&     pip install -e .\n",
      " ---> Using cache\n",
      " ---> f1734add8d2e\n",
      "Step 8/13 : ENV MKL_THREADING_LAYER GNU\n",
      " ---> Using cache\n",
      " ---> e7d7a3d6954f\n",
      "Step 9/13 : ENV MMDETECTION /opt/ml/code/mmaction2\n",
      " ---> Using cache\n",
      " ---> b8da9a810967\n",
      "Step 10/13 : COPY container_training /opt/ml/code\n",
      " ---> 3c0c57a41e2f\n",
      "Step 11/13 : ENV SAGEMAKER_SUBMIT_DIRECTORY /opt/ml/code\n",
      " ---> Running in f0c1725ad342\n",
      "Removing intermediate container f0c1725ad342\n",
      " ---> ae4c3754438e\n",
      "Step 12/13 : ENV SAGEMAKER_PROGRAM mmaction2_train.py\n",
      " ---> Running in 53406d117a43\n",
      "Removing intermediate container 53406d117a43\n",
      " ---> e6aaaabc0668\n",
      "Step 13/13 : WORKDIR /\n",
      " ---> Running in 845a212fc3d8\n",
      "Removing intermediate container 845a212fc3d8\n",
      " ---> 1481acb96fdc\n",
      "Successfully built 1481acb96fdc\n",
      "Successfully tagged mmaction2-training:latest\n",
      "The push refers to repository [579019700964.dkr.ecr.us-east-1.amazonaws.com/mmaction2-training]\n",
      "\n",
      "\u001b[1Bb460f548: Preparing \n",
      "\u001b[1B38688bcf: Preparing \n",
      "\u001b[1B2961137e: Preparing \n",
      "\u001b[1B20bac855: Preparing \n",
      "\u001b[1B1aef3cb1: Preparing \n",
      "\u001b[1B87d2d613: Preparing \n",
      "\u001b[1Bdc6eccf1: Preparing \n",
      "\u001b[1Be8cb8ead: Preparing \n",
      "\u001b[1B18b6f784: Preparing \n",
      "\u001b[1Bbe96fc82: Preparing \n",
      "\u001b[1B2b332e53: Preparing \n",
      "\u001b[1Bc6e1c93f: Preparing \n",
      "\u001b[1B8af0cced: Preparing \n",
      "\u001b[1Ba1e058e6: Preparing \n",
      "\u001b[1Ba7e2d141: Preparing \n",
      "\u001b[1B891256c7: Preparing \n",
      "\u001b[1B4275da12: Preparing \n",
      "\u001b[1B8601ef26: Preparing \n",
      "\u001b[1B03245374: Preparing \n",
      "\u001b[1Be3aaa392: Preparing \n",
      "\u001b[15Bc6eccf1: Waiting g \n",
      "\u001b[1B3589d5b4: Preparing \n",
      "\u001b[12B6e1c93f: Waiting g \n",
      "\u001b[17B8cb8ead: Waiting g \n",
      "\u001b[13Baf0cced: Waiting g \n",
      "\u001b[1Bdadd4466: Preparing \n",
      "\u001b[12B91256c7: Waiting g \n",
      "\u001b[19Be96fc82: Waiting g \n",
      "\u001b[13B275da12: Waiting g \n",
      "\u001b[1B9683cb41: Preparing \n",
      "\u001b[14B601ef26: Waiting g \n",
      "\u001b[1B103e78c9: Preparing \n",
      "\u001b[15B3245374: Waiting g \n",
      "\u001b[1Bb9b0fb21: Layer already exists 1kB4A\u001b[2K\u001b[27A\u001b[2K\u001b[24A\u001b[2K\u001b[21A\u001b[2K\u001b[17A\u001b[2K\u001b[13A\u001b[2K\u001b[9A\u001b[2K\u001b[6A\u001b[2K\u001b[2A\u001b[2Klatest: digest: sha256:d41de70801b4333a6fc7163cd267bd9851d8f944a615025e7879980f49c92708 size: 7474\n"
     ]
    }
   ],
   "source": [
    "! ./build_and_push.sh mmaction2-training latest Dockerfile.training"
   ]
  },
  {
   "cell_type": "markdown",
   "metadata": {},
   "source": [
    "### Training script\n",
    "\n",
    "At training time, Sagemaker executes training script defined in `SAGEMAKER_PROGRAM` variable. In our case, this script does following\n",
    "- parses user parameters passed via Sagemaker Hyperparameter dictionary;\n",
    "- based on parameters constructs launch command;\n",
    "- uses `torch.distributed.launch` utility to launch distributed training;\n",
    "- uses MMDetection `tools/train.py` to configure trianing process.\n"
   ]
  },
  {
   "cell_type": "code",
   "execution_count": null,
   "metadata": {},
   "outputs": [],
   "source": [
    "! pygmentize container_training/mmaction2_train.py"
   ]
  },
  {
   "cell_type": "markdown",
   "metadata": {},
   "source": [
    "## Start Sagemaker Training "
   ]
  },
  {
   "cell_type": "code",
   "execution_count": 8,
   "metadata": {},
   "outputs": [],
   "source": [
    "# Define IAM role\n",
    "import boto3\n",
    "import re\n",
    "\n",
    "import os\n",
    "import numpy as np\n",
    "import pandas as pd\n",
    "from sagemaker import get_execution_role\n",
    "\n",
    "role = get_execution_role()"
   ]
  },
  {
   "cell_type": "code",
   "execution_count": 9,
   "metadata": {},
   "outputs": [],
   "source": [
    "from time import gmtime, strftime\n",
    "\n",
    "prefix_input = 'mmaction2-input'\n",
    "prefix_output = 'mmaction2-ouput'"
   ]
  },
  {
   "cell_type": "code",
   "execution_count": 10,
   "metadata": {},
   "outputs": [],
   "source": [
    "container = \"mmaction2-training\" # your container name\n",
    "tag = \"latest\"\n",
    "image = '{}.dkr.ecr.{}.amazonaws.com/{}:{}'.format(account, region, container, tag)"
   ]
  },
  {
   "cell_type": "code",
   "execution_count": 14,
   "metadata": {},
   "outputs": [],
   "source": [
    "# algorithm parameters\n",
    "\n",
    "hyperparameters = {\n",
    "    \"config-file\" : \"configs/recognition/tsn/tsn_r50_video_1x1x8_100e_kinetics400_rgb.py\", # config path is relative to MMDetection root directory\n",
    "    \"dataset\" : \"kinetics400_tiny\",\n",
    "    \"auto-scale\" : \"false\", # whether to scale LR and Warm Up time\n",
    "    \"validate\" : \"true\", # whether to run validation after training is done\n",
    "    \n",
    "    # 'options' allows to override individual config values\n",
    "    \"options\" : \"total_epochs=1; optimizer.lr=0.08; evaluation.gpu_collect=True\",\n",
    "}"
   ]
  },
  {
   "cell_type": "code",
   "execution_count": 15,
   "metadata": {},
   "outputs": [],
   "source": [
    "# Sagemaker will parse metrics from STDOUT and store/visualize them as part of training job\n",
    "metrics = [\n",
    "    {\n",
    "        \"Name\": \"top_k_accuracy\",\n",
    "        \"Regex\": \".*top_k_accuracy:\\s([0-9\\\\.]+)\\s*\"\n",
    "    },\n",
    "    {\n",
    "        \"Name\": \"mean_class_accuracy\",\n",
    "        \"Regex\": \".*mean_class_accuracy:\\s([0-9\\\\.]+)\\s*\"\n",
    "    },\n",
    "]"
   ]
  },
  {
   "cell_type": "markdown",
   "metadata": {},
   "source": [
    "<br>\n",
    "<br>\n",
    "\n",
    "Execute cell below to start training on Sagemaker.\n",
    "<br>\n",
    "<br>"
   ]
  },
  {
   "cell_type": "code",
   "execution_count": 9,
   "metadata": {},
   "outputs": [
    {
     "name": "stdout",
     "output_type": "stream",
     "text": [
      "rm: cannot remove ‘kinetics400_tiny.zip*’: No such file or directory\n",
      "--2020-12-10 12:43:21--  https://download.openmmlab.com/mmaction/kinetics400_tiny.zip\n",
      "Resolving download.openmmlab.com (download.openmmlab.com)... 47.252.96.35\n",
      "Connecting to download.openmmlab.com (download.openmmlab.com)|47.252.96.35|:443... connected.\n",
      "HTTP request sent, awaiting response... 200 OK\n",
      "Length: 18308682 (17M) [application/zip]\n",
      "Saving to: ‘kinetics400_tiny.zip’\n",
      "\n",
      "kinetics400_tiny.zi 100%[===================>]  17.46M  8.76MB/s    in 2.0s    \n",
      "\n",
      "2020-12-10 12:43:24 (8.76 MB/s) - ‘kinetics400_tiny.zip’ saved [18308682/18308682]\n",
      "\n"
     ]
    }
   ],
   "source": [
    "# download, decompress the data\n",
    "!rm kinetics400_tiny.zip*\n",
    "!rm -rf kinetics400_tiny\n",
    "!wget https://download.openmmlab.com/mmaction/kinetics400_tiny.zip\n",
    "!unzip kinetics400_tiny.zip > /dev/null"
   ]
  },
  {
   "cell_type": "code",
   "execution_count": 1,
   "metadata": {
    "scrolled": true
   },
   "outputs": [
    {
     "name": "stdout",
     "output_type": "stream",
     "text": [
      "Loaded plugins: dkms-build-requires, priorities, update-motd, upgrade-helper,\n",
      "              : versionlock\n",
      "No packages marked for update\n",
      "Loaded plugins: dkms-build-requires, priorities, update-motd, upgrade-helper,\n",
      "              : versionlock\n",
      "Package tree-1.6.0-5.8.amzn1.x86_64 already installed and latest version\n",
      "Nothing to do\n",
      "\u001b[01;34mkinetics400_tiny\u001b[00m\n",
      "├── kinetics_tiny_train_video.txt\n",
      "├── kinetics_tiny_val_video.txt\n",
      "├── \u001b[01;34mtrain\u001b[00m\n",
      "│   ├── \u001b[01;35m27_CSXByd3s.mp4\u001b[00m\n",
      "│   ├── \u001b[01;35m34XczvTaRiI.mp4\u001b[00m\n",
      "│   ├── \u001b[01;35mA-wiliK50Zw.mp4\u001b[00m\n",
      "│   ├── \u001b[01;35mD32_1gwq35E.mp4\u001b[00m\n",
      "│   ├── \u001b[01;35mD92m0HsHjcQ.mp4\u001b[00m\n",
      "│   ├── \u001b[01;35mDbX8mPslRXg.mp4\u001b[00m\n",
      "│   ├── \u001b[01;35mFMlSTTpN3VY.mp4\u001b[00m\n",
      "│   ├── \u001b[01;35mh10B9SVE-nk.mp4\u001b[00m\n",
      "│   ├── \u001b[01;35mh2YqqUhnR34.mp4\u001b[00m\n",
      "│   ├── \u001b[01;35miRuyZSKhHRg.mp4\u001b[00m\n",
      "│   ├── \u001b[01;35mIyfILH9lBRo.mp4\u001b[00m\n",
      "│   ├── \u001b[01;35mkFC3KY2bOP8.mp4\u001b[00m\n",
      "│   ├── \u001b[01;35mLvcFDgCAXQs.mp4\u001b[00m\n",
      "│   ├── \u001b[01;35mO46YA8tI530.mp4\u001b[00m\n",
      "│   ├── \u001b[01;35moMrZaozOvdQ.mp4\u001b[00m\n",
      "│   ├── \u001b[01;35moXy-e_P_cAI.mp4\u001b[00m\n",
      "│   ├── \u001b[01;35mP5M-hAts7MQ.mp4\u001b[00m\n",
      "│   ├── \u001b[01;35mphDqGd0NKoo.mp4\u001b[00m\n",
      "│   ├── \u001b[01;35mPnOe3GZRVX8.mp4\u001b[00m\n",
      "│   ├── \u001b[01;35mR8HXQkdgKWA.mp4\u001b[00m\n",
      "│   ├── \u001b[01;35mRqnKtCEoEcA.mp4\u001b[00m\n",
      "│   ├── \u001b[01;35msoEcZZsBmDs.mp4\u001b[00m\n",
      "│   ├── \u001b[01;35mTkkZPZHbAKA.mp4\u001b[00m\n",
      "│   ├── \u001b[01;35mT_TMNGzVrDk.mp4\u001b[00m\n",
      "│   ├── \u001b[01;35mWaS0qwP46Us.mp4\u001b[00m\n",
      "│   ├── \u001b[01;35mWh_YPQdH1Zg.mp4\u001b[00m\n",
      "│   ├── \u001b[01;35mWWP5HZJsg-o.mp4\u001b[00m\n",
      "│   ├── \u001b[01;35mxGY2dP0YUjA.mp4\u001b[00m\n",
      "│   ├── \u001b[01;35myLC9CtWU5ws.mp4\u001b[00m\n",
      "│   └── \u001b[01;35mZQV4U2KQ370.mp4\u001b[00m\n",
      "└── \u001b[01;34mval\u001b[00m\n",
      "    ├── \u001b[01;35m0pVGiAU6XEA.mp4\u001b[00m\n",
      "    ├── \u001b[01;35mAQrbRSnRt8M.mp4\u001b[00m\n",
      "    ├── \u001b[01;35mb6Q_b7vgc7Q.mp4\u001b[00m\n",
      "    ├── \u001b[01;35mddvJ6-faICE.mp4\u001b[00m\n",
      "    ├── \u001b[01;35mIcLztCtvhb8.mp4\u001b[00m\n",
      "    ├── \u001b[01;35mik4BW3-SCts.mp4\u001b[00m\n",
      "    ├── \u001b[01;35mjqRrH30V0k4.mp4\u001b[00m\n",
      "    ├── \u001b[01;35mSU_x2LQqSLs.mp4\u001b[00m\n",
      "    ├── \u001b[01;35mu4Rm6srmIS8.mp4\u001b[00m\n",
      "    └── \u001b[01;35my5Iu7XkTqV0.mp4\u001b[00m\n",
      "\n",
      "2 directories, 42 files\n"
     ]
    }
   ],
   "source": [
    "# Check the directory structure of the tiny data\n",
    "\n",
    "# Install tree first\n",
    "!sudo yum update -y && sudo yum install -y tree\n",
    "!tree kinetics400_tiny"
   ]
  },
  {
   "cell_type": "code",
   "execution_count": 2,
   "metadata": {
    "scrolled": true
   },
   "outputs": [
    {
     "name": "stdout",
     "output_type": "stream",
     "text": [
      "D32_1gwq35E.mp4 0\n",
      "iRuyZSKhHRg.mp4 1\n",
      "oXy-e_P_cAI.mp4 0\n",
      "34XczvTaRiI.mp4 1\n",
      "h2YqqUhnR34.mp4 0\n",
      "O46YA8tI530.mp4 0\n",
      "kFC3KY2bOP8.mp4 1\n",
      "WWP5HZJsg-o.mp4 1\n",
      "phDqGd0NKoo.mp4 1\n",
      "yLC9CtWU5ws.mp4 0\n",
      "27_CSXByd3s.mp4 1\n",
      "IyfILH9lBRo.mp4 1\n",
      "T_TMNGzVrDk.mp4 1\n",
      "TkkZPZHbAKA.mp4 0\n",
      "PnOe3GZRVX8.mp4 1\n",
      "soEcZZsBmDs.mp4 1\n",
      "FMlSTTpN3VY.mp4 1\n",
      "WaS0qwP46Us.mp4 0\n",
      "A-wiliK50Zw.mp4 1\n",
      "oMrZaozOvdQ.mp4 1\n",
      "ZQV4U2KQ370.mp4 0\n",
      "DbX8mPslRXg.mp4 1\n",
      "h10B9SVE-nk.mp4 1\n",
      "P5M-hAts7MQ.mp4 0\n",
      "R8HXQkdgKWA.mp4 0\n",
      "D92m0HsHjcQ.mp4 0\n",
      "RqnKtCEoEcA.mp4 0\n",
      "LvcFDgCAXQs.mp4 0\n",
      "xGY2dP0YUjA.mp4 0\n",
      "Wh_YPQdH1Zg.mp4 0\n"
     ]
    }
   ],
   "source": [
    "# After downloading the data, we need to check the annotation format\n",
    "!cat kinetics400_tiny/kinetics_tiny_train_video.txt"
   ]
  },
  {
   "cell_type": "code",
   "execution_count": 6,
   "metadata": {
    "scrolled": true
   },
   "outputs": [
    {
     "name": "stdout",
     "output_type": "stream",
     "text": [
      "upload: kinetics400_tiny/kinetics_tiny_train_video.txt to s3://sagemaker-us-east-1-579019700964/kinetics400_tiny/kinetics_tiny_train_video.txt\n",
      "upload: kinetics400_tiny/kinetics_tiny_val_video.txt to s3://sagemaker-us-east-1-579019700964/kinetics400_tiny/kinetics_tiny_val_video.txt\n",
      "upload: kinetics400_tiny/train/LvcFDgCAXQs.mp4 to s3://sagemaker-us-east-1-579019700964/kinetics400_tiny/train/LvcFDgCAXQs.mp4\n",
      "upload: kinetics400_tiny/train/A-wiliK50Zw.mp4 to s3://sagemaker-us-east-1-579019700964/kinetics400_tiny/train/A-wiliK50Zw.mp4\n",
      "upload: kinetics400_tiny/train/DbX8mPslRXg.mp4 to s3://sagemaker-us-east-1-579019700964/kinetics400_tiny/train/DbX8mPslRXg.mp4\n",
      "upload: kinetics400_tiny/train/IyfILH9lBRo.mp4 to s3://sagemaker-us-east-1-579019700964/kinetics400_tiny/train/IyfILH9lBRo.mp4\n",
      "upload: kinetics400_tiny/train/D92m0HsHjcQ.mp4 to s3://sagemaker-us-east-1-579019700964/kinetics400_tiny/train/D92m0HsHjcQ.mp4\n",
      "upload: kinetics400_tiny/train/27_CSXByd3s.mp4 to s3://sagemaker-us-east-1-579019700964/kinetics400_tiny/train/27_CSXByd3s.mp4\n",
      "upload: kinetics400_tiny/train/FMlSTTpN3VY.mp4 to s3://sagemaker-us-east-1-579019700964/kinetics400_tiny/train/FMlSTTpN3VY.mp4\n",
      "upload: kinetics400_tiny/train/34XczvTaRiI.mp4 to s3://sagemaker-us-east-1-579019700964/kinetics400_tiny/train/34XczvTaRiI.mp4\n",
      "upload: kinetics400_tiny/train/D32_1gwq35E.mp4 to s3://sagemaker-us-east-1-579019700964/kinetics400_tiny/train/D32_1gwq35E.mp4\n",
      "upload: kinetics400_tiny/train/PnOe3GZRVX8.mp4 to s3://sagemaker-us-east-1-579019700964/kinetics400_tiny/train/PnOe3GZRVX8.mp4\n",
      "upload: kinetics400_tiny/train/WWP5HZJsg-o.mp4 to s3://sagemaker-us-east-1-579019700964/kinetics400_tiny/train/WWP5HZJsg-o.mp4\n",
      "upload: kinetics400_tiny/train/T_TMNGzVrDk.mp4 to s3://sagemaker-us-east-1-579019700964/kinetics400_tiny/train/T_TMNGzVrDk.mp4\n",
      "upload: kinetics400_tiny/train/RqnKtCEoEcA.mp4 to s3://sagemaker-us-east-1-579019700964/kinetics400_tiny/train/RqnKtCEoEcA.mp4\n",
      "upload: kinetics400_tiny/train/ZQV4U2KQ370.mp4 to s3://sagemaker-us-east-1-579019700964/kinetics400_tiny/train/ZQV4U2KQ370.mp4\n",
      "upload: kinetics400_tiny/train/WaS0qwP46Us.mp4 to s3://sagemaker-us-east-1-579019700964/kinetics400_tiny/train/WaS0qwP46Us.mp4\n",
      "upload: kinetics400_tiny/train/R8HXQkdgKWA.mp4 to s3://sagemaker-us-east-1-579019700964/kinetics400_tiny/train/R8HXQkdgKWA.mp4\n",
      "upload: kinetics400_tiny/train/O46YA8tI530.mp4 to s3://sagemaker-us-east-1-579019700964/kinetics400_tiny/train/O46YA8tI530.mp4\n",
      "upload: kinetics400_tiny/train/TkkZPZHbAKA.mp4 to s3://sagemaker-us-east-1-579019700964/kinetics400_tiny/train/TkkZPZHbAKA.mp4\n",
      "upload: kinetics400_tiny/train/Wh_YPQdH1Zg.mp4 to s3://sagemaker-us-east-1-579019700964/kinetics400_tiny/train/Wh_YPQdH1Zg.mp4\n",
      "upload: kinetics400_tiny/train/P5M-hAts7MQ.mp4 to s3://sagemaker-us-east-1-579019700964/kinetics400_tiny/train/P5M-hAts7MQ.mp4\n",
      "upload: kinetics400_tiny/train/h10B9SVE-nk.mp4 to s3://sagemaker-us-east-1-579019700964/kinetics400_tiny/train/h10B9SVE-nk.mp4\n",
      "upload: kinetics400_tiny/train/oXy-e_P_cAI.mp4 to s3://sagemaker-us-east-1-579019700964/kinetics400_tiny/train/oXy-e_P_cAI.mp4\n",
      "upload: kinetics400_tiny/train/kFC3KY2bOP8.mp4 to s3://sagemaker-us-east-1-579019700964/kinetics400_tiny/train/kFC3KY2bOP8.mp4\n",
      "upload: kinetics400_tiny/train/iRuyZSKhHRg.mp4 to s3://sagemaker-us-east-1-579019700964/kinetics400_tiny/train/iRuyZSKhHRg.mp4\n",
      "upload: kinetics400_tiny/train/h2YqqUhnR34.mp4 to s3://sagemaker-us-east-1-579019700964/kinetics400_tiny/train/h2YqqUhnR34.mp4\n",
      "upload: kinetics400_tiny/train/yLC9CtWU5ws.mp4 to s3://sagemaker-us-east-1-579019700964/kinetics400_tiny/train/yLC9CtWU5ws.mp4\n",
      "upload: kinetics400_tiny/train/xGY2dP0YUjA.mp4 to s3://sagemaker-us-east-1-579019700964/kinetics400_tiny/train/xGY2dP0YUjA.mp4\n",
      "upload: kinetics400_tiny/train/phDqGd0NKoo.mp4 to s3://sagemaker-us-east-1-579019700964/kinetics400_tiny/train/phDqGd0NKoo.mp4\n",
      "upload: kinetics400_tiny/train/oMrZaozOvdQ.mp4 to s3://sagemaker-us-east-1-579019700964/kinetics400_tiny/train/oMrZaozOvdQ.mp4\n",
      "upload: kinetics400_tiny/val/IcLztCtvhb8.mp4 to s3://sagemaker-us-east-1-579019700964/kinetics400_tiny/val/IcLztCtvhb8.mp4\n",
      "upload: kinetics400_tiny/val/SU_x2LQqSLs.mp4 to s3://sagemaker-us-east-1-579019700964/kinetics400_tiny/val/SU_x2LQqSLs.mp4\n",
      "upload: kinetics400_tiny/train/soEcZZsBmDs.mp4 to s3://sagemaker-us-east-1-579019700964/kinetics400_tiny/train/soEcZZsBmDs.mp4\n",
      "upload: kinetics400_tiny/val/b6Q_b7vgc7Q.mp4 to s3://sagemaker-us-east-1-579019700964/kinetics400_tiny/val/b6Q_b7vgc7Q.mp4\n",
      "upload: kinetics400_tiny/val/AQrbRSnRt8M.mp4 to s3://sagemaker-us-east-1-579019700964/kinetics400_tiny/val/AQrbRSnRt8M.mp4\n",
      "upload: kinetics400_tiny/val/0pVGiAU6XEA.mp4 to s3://sagemaker-us-east-1-579019700964/kinetics400_tiny/val/0pVGiAU6XEA.mp4\n",
      "upload: kinetics400_tiny/val/u4Rm6srmIS8.mp4 to s3://sagemaker-us-east-1-579019700964/kinetics400_tiny/val/u4Rm6srmIS8.mp4\n",
      "upload: kinetics400_tiny/val/ik4BW3-SCts.mp4 to s3://sagemaker-us-east-1-579019700964/kinetics400_tiny/val/ik4BW3-SCts.mp4\n",
      "upload: kinetics400_tiny/val/y5Iu7XkTqV0.mp4 to s3://sagemaker-us-east-1-579019700964/kinetics400_tiny/val/y5Iu7XkTqV0.mp4\n",
      "upload: kinetics400_tiny/val/ddvJ6-faICE.mp4 to s3://sagemaker-us-east-1-579019700964/kinetics400_tiny/val/ddvJ6-faICE.mp4\n",
      "upload: kinetics400_tiny/val/jqRrH30V0k4.mp4 to s3://sagemaker-us-east-1-579019700964/kinetics400_tiny/val/jqRrH30V0k4.mp4\n"
     ]
    }
   ],
   "source": [
    "!aws s3 cp --recursive kinetics400_tiny s3://$bucket/kinetics400_tiny"
   ]
  },
  {
   "cell_type": "code",
   "execution_count": null,
   "metadata": {
    "scrolled": true
   },
   "outputs": [
    {
     "name": "stderr",
     "output_type": "stream",
     "text": [
      "train_instance_count has been renamed in sagemaker>=2.\n",
      "See: https://sagemaker.readthedocs.io/en/stable/v2.html for details.\n",
      "train_instance_type has been renamed in sagemaker>=2.\n",
      "See: https://sagemaker.readthedocs.io/en/stable/v2.html for details.\n",
      "train_volume_size has been renamed in sagemaker>=2.\n",
      "See: https://sagemaker.readthedocs.io/en/stable/v2.html for details.\n"
     ]
    },
    {
     "name": "stdout",
     "output_type": "stream",
     "text": [
      "2020-12-10 13:24:49 Starting - Starting the training job...\n",
      "2020-12-10 13:25:14 Starting - Launching requested ML instancesProfilerReport-1607606688: InProgress\n",
      ".........\n",
      "2020-12-10 13:26:41 Starting - Preparing the instances for training..."
     ]
    }
   ],
   "source": [
    "est = sagemaker.estimator.Estimator(image,\n",
    "                                          role=role,\n",
    "                                          train_instance_count=2,\n",
    "                                          train_instance_type='ml.p3.8xlarge',\n",
    "                                          train_volume_size=100,\n",
    "                                          output_path=\"s3://{}/{}\".format(bucket, prefix_output),\n",
    "                                          metric_definitions = metrics,\n",
    "                                          hyperparameters = hyperparameters, \n",
    "                                          sagemaker_session=session\n",
    ")\n",
    "\n",
    "est.fit({\"training\" : \"s3://\"+bucket+\"/kinetics400_tiny/\"})"
   ]
  },
  {
   "cell_type": "code",
   "execution_count": null,
   "metadata": {},
   "outputs": [],
   "source": []
  }
 ],
 "metadata": {
  "kernelspec": {
   "display_name": "conda_pytorch_p36",
   "language": "python",
   "name": "conda_pytorch_p36"
  },
  "language_info": {
   "codemirror_mode": {
    "name": "ipython",
    "version": 3
   },
   "file_extension": ".py",
   "mimetype": "text/x-python",
   "name": "python",
   "nbconvert_exporter": "python",
   "pygments_lexer": "ipython3",
   "version": "3.6.10"
  }
 },
 "nbformat": 4,
 "nbformat_minor": 4
}
